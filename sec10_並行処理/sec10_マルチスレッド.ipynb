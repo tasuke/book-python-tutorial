{
 "cells": [
  {
   "cell_type": "code",
   "execution_count": 19,
   "metadata": {},
   "outputs": [],
   "source": [
    "# 対象ページのURL一覧\n",
    "urls = [\n",
    "    'https://twitter.com',\n",
    "    'https://facebook.com',\n",
    "    'https://www.yahoo.co.jp'\n",
    "]\n",
    "\n",
    "from hashlib import md5\n",
    "from pathlib import Path\n",
    "from urllib import request"
   ]
  },
  {
   "cell_type": "code",
   "execution_count": 4,
   "metadata": {},
   "outputs": [],
   "source": [
    "def download(url):\n",
    "    req = request.Request(url)\n",
    "    # ファイル名に/などが含まれないようにする\n",
    "    name = md5(url.encode('utf-8')).hexdigest()\n",
    "    file_path = './' + name\n",
    "    with request.urlopen(req) as res:\n",
    "        Path(file_path).write_bytes(res.read())\n",
    "        return url, file_path"
   ]
  },
  {
   "cell_type": "code",
   "execution_count": 20,
   "metadata": {},
   "outputs": [
    {
     "data": {
      "text/plain": [
       "('https://www.yahoo.co.jp', './75fe82dd9f3dd946472228b906a66730')"
      ]
     },
     "execution_count": 20,
     "metadata": {},
     "output_type": "execute_result"
    }
   ],
   "source": [
    "download(urls[2])"
   ]
  },
  {
   "cell_type": "code",
   "execution_count": 12,
   "metadata": {},
   "outputs": [],
   "source": [
    "import time\n",
    "\n",
    "# 実行時間の計測を行うでコレータ\n",
    "def elapsed_time(f):\n",
    "    def wrapper(*args, **kwargs):\n",
    "        st = time.time()\n",
    "        v = f(*args, **kwargs)\n",
    "        print(f'{f.__name__}: {time.time() - st}')\n",
    "        return v\n",
    "    return wrapper "
   ]
  },
  {
   "cell_type": "code",
   "execution_count": 22,
   "metadata": {},
   "outputs": [
    {
     "name": "stdout",
     "output_type": "stream",
     "text": [
      "('https://twitter.com', './be8b09f7f1f66235a9c91986952483f0')\n",
      "('https://facebook.com', './a023cfbf5f1c39bdf8407f28b60cd134')\n",
      "('https://www.yahoo.co.jp', './75fe82dd9f3dd946472228b906a66730')\n",
      "get_sequential: 0.9226570129394531\n"
     ]
    }
   ],
   "source": [
    "## 逐次処理で行う\n",
    "@elapsed_time\n",
    "def get_sequential():\n",
    "    for url in urls:\n",
    "        print(download(url))\n",
    "\n",
    "get_sequential()"
   ]
  },
  {
   "cell_type": "code",
   "execution_count": 25,
   "metadata": {},
   "outputs": [],
   "source": [
    "# 並行処理で行う\n",
    "\n",
    "from concurrent.futures import (\n",
    "    ThreadPoolExecutor,\n",
    "    as_completed\n",
    ")\n",
    "\n",
    "@elapsed_time\n",
    "def get_multi_thread():\n",
    "    with ThreadPoolExecutor(max_workers=3) as executor:\n",
    "        futures = [executor.submit(download, url) for url in urls]\n",
    "        for future in as_completed(futures):\n",
    "            print(future.result())"
   ]
  },
  {
   "cell_type": "code",
   "execution_count": 26,
   "metadata": {},
   "outputs": [
    {
     "name": "stdout",
     "output_type": "stream",
     "text": [
      "('https://www.yahoo.co.jp', './75fe82dd9f3dd946472228b906a66730')\n",
      "('https://twitter.com', './be8b09f7f1f66235a9c91986952483f0')\n",
      "('https://facebook.com', './a023cfbf5f1c39bdf8407f28b60cd134')\n",
      "get_multi_thread: 0.5968329906463623\n"
     ]
    }
   ],
   "source": [
    "get_multi_thread()"
   ]
  },
  {
   "cell_type": "code",
   "execution_count": 27,
   "metadata": {},
   "outputs": [],
   "source": [
    "from concurrent.futures import (\n",
    "    ThreadPoolExecutor,\n",
    "    wait,\n",
    "    as_completed\n",
    ")\n",
    "\n",
    "class Counter:\n",
    "    def __init__(self):\n",
    "        self.count = 0\n",
    "    def increment(self):\n",
    "        self.count = self.count + 1\n",
    "        \n",
    "def count_up(counter):\n",
    "    for _ in range(1000000):\n",
    "        counter.increment()\n",
    "        \n",
    "counter = Counter()\n",
    "threads = 2\n",
    "with ThreadPoolExecutor() as e:\n",
    "    # 2つのスレッドでそれぞれcount_upを呼び出す\n",
    "    futures = [e.submit(count_up, counter)\n",
    "              for _ in range(threads)]\n",
    "    done, not_done = wait(futures)"
   ]
  },
  {
   "cell_type": "code",
   "execution_count": 29,
   "metadata": {},
   "outputs": [
    {
     "name": "stdout",
     "output_type": "stream",
     "text": [
      "counter.count=1679396\n"
     ]
    }
   ],
   "source": [
    "print(f'counter.count={counter.count}')"
   ]
  },
  {
   "cell_type": "code",
   "execution_count": 30,
   "metadata": {},
   "outputs": [],
   "source": [
    "import threading\n",
    "class ThreadSafeCounter():\n",
    "    lock = threading.Lock()\n",
    "    def __init__(self):\n",
    "        self.count = 0\n",
    "    def increment(self):\n",
    "        with self.lock:\n",
    "            self.count = self.count+1\n",
    "\n",
    "counter = ThreadSafeCounter()\n",
    "threads = 2\n",
    "with ThreadPoolExecutor() as e:\n",
    "    futures = [e.submit(count_up, counter) \n",
    "              for _ in range(threads)]\n",
    "    done, not_done = wait(futures)"
   ]
  },
  {
   "cell_type": "code",
   "execution_count": 31,
   "metadata": {},
   "outputs": [
    {
     "name": "stdout",
     "output_type": "stream",
     "text": [
      "counter.count=2000000\n"
     ]
    }
   ],
   "source": [
    "print(f'counter.count={counter.count}')"
   ]
  },
  {
   "cell_type": "code",
   "execution_count": 32,
   "metadata": {},
   "outputs": [],
   "source": []
  },
  {
   "cell_type": "code",
   "execution_count": null,
   "metadata": {},
   "outputs": [],
   "source": []
  }
 ],
 "metadata": {
  "kernelspec": {
   "display_name": "Python 3",
   "language": "python",
   "name": "python3"
  },
  "language_info": {
   "codemirror_mode": {
    "name": "ipython",
    "version": 3
   },
   "file_extension": ".py",
   "mimetype": "text/x-python",
   "name": "python",
   "nbconvert_exporter": "python",
   "pygments_lexer": "ipython3",
   "version": "3.7.4"
  }
 },
 "nbformat": 4,
 "nbformat_minor": 2
}
