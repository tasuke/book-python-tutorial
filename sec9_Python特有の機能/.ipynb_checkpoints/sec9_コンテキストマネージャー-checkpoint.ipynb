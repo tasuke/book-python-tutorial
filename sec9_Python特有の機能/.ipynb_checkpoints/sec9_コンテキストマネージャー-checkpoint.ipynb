{
 "cells": [
  {
   "cell_type": "code",
   "execution_count": 3,
   "metadata": {},
   "outputs": [],
   "source": [
    "with open('sample_writer.txt', 'w') as f:\n",
    "    f.write('python')\n"
   ]
  },
  {
   "cell_type": "code",
   "execution_count": 4,
   "metadata": {},
   "outputs": [
    {
     "data": {
      "text/plain": [
       "True"
      ]
     },
     "execution_count": 4,
     "metadata": {},
     "output_type": "execute_result"
    }
   ],
   "source": [
    "f.closed"
   ]
  },
  {
   "cell_type": "code",
   "execution_count": 5,
   "metadata": {},
   "outputs": [],
   "source": [
    "class ContextManager:\n",
    "    # 前処理\n",
    "    def __enter__(self):\n",
    "        print('__enter__ was called')\n",
    "    # 後処理\n",
    "    def __exit__(self, exc_type, exc_value, traceback):\n",
    "        print('__exit was called')\n",
    "        print(f'exc_type={exc_type}')\n",
    "        print(f'exc_value={exc_value}')\n",
    "        print(f'traceback={traceback}')"
   ]
  },
  {
   "cell_type": "code",
   "execution_count": 6,
   "metadata": {},
   "outputs": [
    {
     "name": "stdout",
     "output_type": "stream",
     "text": [
      "__enter__ was called\n",
      "inside the block\n",
      "__exit was called\n",
      "exc_type=None\n",
      "exc_value=None\n",
      "traceback=None\n"
     ]
    }
   ],
   "source": [
    "with ContextManager():\n",
    "    print('inside the block')"
   ]
  },
  {
   "cell_type": "code",
   "execution_count": 7,
   "metadata": {},
   "outputs": [
    {
     "name": "stdout",
     "output_type": "stream",
     "text": [
      "__enter__ was called\n",
      "__exit was called\n",
      "exc_type=<class 'ZeroDivisionError'>\n",
      "exc_value=division by zero\n",
      "traceback=<traceback object at 0x7ff198577870>\n"
     ]
    },
    {
     "ename": "ZeroDivisionError",
     "evalue": "division by zero",
     "output_type": "error",
     "traceback": [
      "\u001b[0;31m---------------------------------------------------------------------------\u001b[0m",
      "\u001b[0;31mZeroDivisionError\u001b[0m                         Traceback (most recent call last)",
      "\u001b[0;32m<ipython-input-7-159b84d0b448>\u001b[0m in \u001b[0;36m<module>\u001b[0;34m\u001b[0m\n\u001b[1;32m      1\u001b[0m \u001b[0;32mwith\u001b[0m \u001b[0mContextManager\u001b[0m\u001b[0;34m(\u001b[0m\u001b[0;34m)\u001b[0m\u001b[0;34m:\u001b[0m\u001b[0;34m\u001b[0m\u001b[0;34m\u001b[0m\u001b[0m\n\u001b[0;32m----> 2\u001b[0;31m     \u001b[0;36m1\u001b[0m\u001b[0;34m/\u001b[0m\u001b[0;36m0\u001b[0m\u001b[0;34m\u001b[0m\u001b[0;34m\u001b[0m\u001b[0m\n\u001b[0m",
      "\u001b[0;31mZeroDivisionError\u001b[0m: division by zero"
     ]
    }
   ],
   "source": [
    "with ContextManager():\n",
    "    1/0"
   ]
  },
  {
   "cell_type": "code",
   "execution_count": 18,
   "metadata": {},
   "outputs": [
    {
     "name": "stdout",
     "output_type": "stream",
     "text": [
      "(1, 'hoge')\n",
      "__exit was called\n",
      "exc_type=None\n",
      "exc_value=None\n",
      "traceback=None\n"
     ]
    }
   ],
   "source": [
    "class ContextManager:\n",
    "    def __enter__(self):\n",
    "        return 1,'hoge' \n",
    "    def __exit__(self, exc_type, exc_value, traceback):\n",
    "        print('__exit was called')\n",
    "        print(f'exc_type={exc_type}')\n",
    "        print(f'exc_value={exc_value}')\n",
    "        print(f'traceback={traceback}')\n",
    "\n",
    "with ContextManager() as f:\n",
    "    print(f)"
   ]
  },
  {
   "cell_type": "code",
   "execution_count": 19,
   "metadata": {},
   "outputs": [],
   "source": [
    "class Point:\n",
    "    def __init__(self, **kwargs):\n",
    "        self.value = kwargs\n",
    "    def __enter__(self):\n",
    "        print('__enter__ was called')\n",
    "        return self.value\n",
    "    def __exit__(self, exc_type, exc_value, traceback):\n",
    "        print('__exit was called')\n",
    "        print(self.value)\n",
    "        print(f'exc_type={exc_type}')\n",
    "        print(f'exc_value={exc_value}')\n",
    "        print(f'traceback={traceback}')\n",
    "        "
   ]
  },
  {
   "cell_type": "code",
   "execution_count": 23,
   "metadata": {},
   "outputs": [
    {
     "name": "stdout",
     "output_type": "stream",
     "text": [
      "__enter__ was called\n",
      "{'x': 1, 'y': 2}\n",
      "__exit was called\n",
      "{'x': 1, 'y': 2, 'z': 3}\n",
      "exc_type=None\n",
      "exc_value=None\n",
      "traceback=None\n"
     ]
    }
   ],
   "source": [
    "with Point(x=1, y=2) as p:\n",
    "    print(p)\n",
    "    p['z'] = 3"
   ]
  },
  {
   "cell_type": "code",
   "execution_count": 25,
   "metadata": {},
   "outputs": [],
   "source": [
    "from contextlib import contextmanager\n",
    "\n",
    "@contextmanager\n",
    "def point(**kwargs):\n",
    "    print('__enter__ was called')\n",
    "    value = kwargs\n",
    "    try:\n",
    "        yield value\n",
    "    except Exception as e:\n",
    "        print(e)\n",
    "        raise\n",
    "    finally:\n",
    "        print('__exit__ was called')\n",
    "        print(value)"
   ]
  },
  {
   "cell_type": "code",
   "execution_count": 26,
   "metadata": {},
   "outputs": [
    {
     "name": "stdout",
     "output_type": "stream",
     "text": [
      "__enter__ was called\n",
      "{'x': 1, 'y': 2}\n",
      "__exit was called\n",
      "{'x': 1, 'y': 2, 'z': 3}\n",
      "exc_type=None\n",
      "exc_value=None\n",
      "traceback=None\n"
     ]
    }
   ],
   "source": [
    "with Point(x=1, y=2) as p:\n",
    "    print(p)\n",
    "    p['z'] = 3"
   ]
  },
  {
   "cell_type": "code",
   "execution_count": 28,
   "metadata": {},
   "outputs": [],
   "source": [
    "import logging\n",
    "from contextlib import contextmanager\n",
    "\n",
    "logger = logging.getLogger(__name__)\n",
    "logger.addHandler(logging.StreamHandler())\n",
    "logger.setLevel(logging.INFO)"
   ]
  },
  {
   "cell_type": "code",
   "execution_count": 29,
   "metadata": {},
   "outputs": [],
   "source": [
    "@contextmanager\n",
    "def debug_context():\n",
    "    level = logger.level\n",
    "    try:\n",
    "        logger.setLevel(logging.DEBUG) #ログレベルを変更￥する\n",
    "        yield\n",
    "    finally:\n",
    "        logger.setLevel(logging.INFO) #元のログレベルに戻す"
   ]
  },
  {
   "cell_type": "code",
   "execution_count": null,
   "metadata": {},
   "outputs": [],
   "source": [
    "def main"
   ]
  }
 ],
 "metadata": {
  "kernelspec": {
   "display_name": "Python 3",
   "language": "python",
   "name": "python3"
  },
  "language_info": {
   "codemirror_mode": {
    "name": "ipython",
    "version": 3
   },
   "file_extension": ".py",
   "mimetype": "text/x-python",
   "name": "python",
   "nbconvert_exporter": "python",
   "pygments_lexer": "ipython3",
   "version": "3.7.4"
  }
 },
 "nbformat": 4,
 "nbformat_minor": 2
}
